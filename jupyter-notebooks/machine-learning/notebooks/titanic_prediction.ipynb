{
 "cells": [
  {
   "cell_type": "markdown",
   "metadata": {
    "collapsed": true
   },
   "source": [
    "# [Titanic - download data from here](https://www.kaggle.com/c/titanic/data)\n"
   ]
  },
  {
   "cell_type": "code",
   "execution_count": 768,
   "metadata": {
    "collapsed": true
   },
   "outputs": [],
   "source": [
    "import pandas as pd\n",
    "import numpy as np\n",
    "np.random.seed(2018)\n",
    "\n",
    "from sklearn.model_selection import cross_val_score\n",
    "from sklearn.metrics import accuracy_score\n",
    "\n",
    "from sklearn.dummy import DummyClassifier\n",
    "from sklearn.tree import DecisionTreeClassifier\n",
    "from sklearn.linear_model import LogisticRegression\n",
    "from sklearn.ensemble import RandomForestClassifier, ExtraTreesClassifier, AdaBoostClassifier\n",
    "from sklearn import svm,model_selection, tree, linear_model, neighbors, naive_bayes, ensemble, discriminant_analysis, gaussian_process\n",
    "\n",
    "import xgboost as xgb\n",
    "\n",
    "from collections import defaultdict\n",
    "\n",
    "import matplotlib.pyplot as plt\n",
    "import seaborn as sns\n",
    "%matplotlib inline\n",
    "\n",
    "# Load data #\n",
    "df_train = pd.read_csv('../input/titanic/train.csv')\n",
    "df_test = pd.read_csv('../input/titanic/test.csv')\n",
    "\n",
    "df_all = pd.concat([df_train, df_test])\n"
   ]
  },
  {
   "cell_type": "markdown",
   "metadata": {},
   "source": [
    "<br>\n",
    "# 'Data Analysis'"
   ]
  },
  {
   "cell_type": "code",
   "execution_count": 769,
   "metadata": {},
   "outputs": [
    {
     "name": "stdout",
     "output_type": "stream",
     "text": [
      "(891, 12)\n",
      "(418, 11)\n"
     ]
    }
   ],
   "source": [
    "print(df_train.shape)\n",
    "print(df_test.shape)"
   ]
  },
  {
   "cell_type": "code",
   "execution_count": 770,
   "metadata": {},
   "outputs": [
    {
     "name": "stdout",
     "output_type": "stream",
     "text": [
      "<class 'pandas.core.frame.DataFrame'>\n",
      "Int64Index: 1309 entries, 0 to 417\n",
      "Data columns (total 12 columns):\n",
      "Age            1046 non-null float64\n",
      "Cabin          295 non-null object\n",
      "Embarked       1307 non-null object\n",
      "Fare           1308 non-null float64\n",
      "Name           1309 non-null object\n",
      "Parch          1309 non-null int64\n",
      "PassengerId    1309 non-null int64\n",
      "Pclass         1309 non-null int64\n",
      "Sex            1309 non-null object\n",
      "SibSp          1309 non-null int64\n",
      "Survived       891 non-null float64\n",
      "Ticket         1309 non-null object\n",
      "dtypes: float64(3), int64(4), object(5)\n",
      "memory usage: 132.9+ KB\n"
     ]
    }
   ],
   "source": [
    "df_all.info()"
   ]
  },
  {
   "cell_type": "code",
   "execution_count": 771,
   "metadata": {
    "scrolled": true
   },
   "outputs": [
    {
     "data": {
      "text/html": [
       "<div>\n",
       "<style>\n",
       "    .dataframe thead tr:only-child th {\n",
       "        text-align: right;\n",
       "    }\n",
       "\n",
       "    .dataframe thead th {\n",
       "        text-align: left;\n",
       "    }\n",
       "\n",
       "    .dataframe tbody tr th {\n",
       "        vertical-align: top;\n",
       "    }\n",
       "</style>\n",
       "<table border=\"1\" class=\"dataframe\">\n",
       "  <thead>\n",
       "    <tr style=\"text-align: right;\">\n",
       "      <th></th>\n",
       "      <th>PassengerId</th>\n",
       "      <th>Survived</th>\n",
       "      <th>Pclass</th>\n",
       "      <th>Age</th>\n",
       "      <th>SibSp</th>\n",
       "      <th>Parch</th>\n",
       "      <th>Fare</th>\n",
       "    </tr>\n",
       "  </thead>\n",
       "  <tbody>\n",
       "    <tr>\n",
       "      <th>count</th>\n",
       "      <td>891.000000</td>\n",
       "      <td>891.000000</td>\n",
       "      <td>891.000000</td>\n",
       "      <td>714.000000</td>\n",
       "      <td>891.000000</td>\n",
       "      <td>891.000000</td>\n",
       "      <td>891.000000</td>\n",
       "    </tr>\n",
       "    <tr>\n",
       "      <th>mean</th>\n",
       "      <td>446.000000</td>\n",
       "      <td>0.383838</td>\n",
       "      <td>2.308642</td>\n",
       "      <td>29.699118</td>\n",
       "      <td>0.523008</td>\n",
       "      <td>0.381594</td>\n",
       "      <td>32.204208</td>\n",
       "    </tr>\n",
       "    <tr>\n",
       "      <th>std</th>\n",
       "      <td>257.353842</td>\n",
       "      <td>0.486592</td>\n",
       "      <td>0.836071</td>\n",
       "      <td>14.526497</td>\n",
       "      <td>1.102743</td>\n",
       "      <td>0.806057</td>\n",
       "      <td>49.693429</td>\n",
       "    </tr>\n",
       "    <tr>\n",
       "      <th>min</th>\n",
       "      <td>1.000000</td>\n",
       "      <td>0.000000</td>\n",
       "      <td>1.000000</td>\n",
       "      <td>0.420000</td>\n",
       "      <td>0.000000</td>\n",
       "      <td>0.000000</td>\n",
       "      <td>0.000000</td>\n",
       "    </tr>\n",
       "    <tr>\n",
       "      <th>25%</th>\n",
       "      <td>223.500000</td>\n",
       "      <td>0.000000</td>\n",
       "      <td>2.000000</td>\n",
       "      <td>20.125000</td>\n",
       "      <td>0.000000</td>\n",
       "      <td>0.000000</td>\n",
       "      <td>7.910400</td>\n",
       "    </tr>\n",
       "    <tr>\n",
       "      <th>50%</th>\n",
       "      <td>446.000000</td>\n",
       "      <td>0.000000</td>\n",
       "      <td>3.000000</td>\n",
       "      <td>28.000000</td>\n",
       "      <td>0.000000</td>\n",
       "      <td>0.000000</td>\n",
       "      <td>14.454200</td>\n",
       "    </tr>\n",
       "    <tr>\n",
       "      <th>75%</th>\n",
       "      <td>668.500000</td>\n",
       "      <td>1.000000</td>\n",
       "      <td>3.000000</td>\n",
       "      <td>38.000000</td>\n",
       "      <td>1.000000</td>\n",
       "      <td>0.000000</td>\n",
       "      <td>31.000000</td>\n",
       "    </tr>\n",
       "    <tr>\n",
       "      <th>max</th>\n",
       "      <td>891.000000</td>\n",
       "      <td>1.000000</td>\n",
       "      <td>3.000000</td>\n",
       "      <td>80.000000</td>\n",
       "      <td>8.000000</td>\n",
       "      <td>6.000000</td>\n",
       "      <td>512.329200</td>\n",
       "    </tr>\n",
       "  </tbody>\n",
       "</table>\n",
       "</div>"
      ],
      "text/plain": [
       "       PassengerId    Survived      Pclass         Age       SibSp  \\\n",
       "count   891.000000  891.000000  891.000000  714.000000  891.000000   \n",
       "mean    446.000000    0.383838    2.308642   29.699118    0.523008   \n",
       "std     257.353842    0.486592    0.836071   14.526497    1.102743   \n",
       "min       1.000000    0.000000    1.000000    0.420000    0.000000   \n",
       "25%     223.500000    0.000000    2.000000   20.125000    0.000000   \n",
       "50%     446.000000    0.000000    3.000000   28.000000    0.000000   \n",
       "75%     668.500000    1.000000    3.000000   38.000000    1.000000   \n",
       "max     891.000000    1.000000    3.000000   80.000000    8.000000   \n",
       "\n",
       "            Parch        Fare  \n",
       "count  891.000000  891.000000  \n",
       "mean     0.381594   32.204208  \n",
       "std      0.806057   49.693429  \n",
       "min      0.000000    0.000000  \n",
       "25%      0.000000    7.910400  \n",
       "50%      0.000000   14.454200  \n",
       "75%      0.000000   31.000000  \n",
       "max      6.000000  512.329200  "
      ]
     },
     "execution_count": 771,
     "metadata": {},
     "output_type": "execute_result"
    }
   ],
   "source": [
    "df_train.describe()"
   ]
  },
  {
   "cell_type": "code",
   "execution_count": 772,
   "metadata": {},
   "outputs": [
    {
     "data": {
      "text/html": [
       "<div>\n",
       "<style>\n",
       "    .dataframe thead tr:only-child th {\n",
       "        text-align: right;\n",
       "    }\n",
       "\n",
       "    .dataframe thead th {\n",
       "        text-align: left;\n",
       "    }\n",
       "\n",
       "    .dataframe tbody tr th {\n",
       "        vertical-align: top;\n",
       "    }\n",
       "</style>\n",
       "<table border=\"1\" class=\"dataframe\">\n",
       "  <thead>\n",
       "    <tr style=\"text-align: right;\">\n",
       "      <th></th>\n",
       "      <th>Age</th>\n",
       "      <th>Cabin</th>\n",
       "      <th>Embarked</th>\n",
       "      <th>Fare</th>\n",
       "      <th>Name</th>\n",
       "      <th>Parch</th>\n",
       "      <th>PassengerId</th>\n",
       "      <th>Pclass</th>\n",
       "      <th>Sex</th>\n",
       "      <th>SibSp</th>\n",
       "      <th>Survived</th>\n",
       "      <th>Ticket</th>\n",
       "    </tr>\n",
       "  </thead>\n",
       "  <tbody>\n",
       "    <tr>\n",
       "      <th>809</th>\n",
       "      <td>33.0</td>\n",
       "      <td>E8</td>\n",
       "      <td>S</td>\n",
       "      <td>53.1</td>\n",
       "      <td>Chambers, Mrs. Norman Campbell (Bertha Griggs)</td>\n",
       "      <td>0</td>\n",
       "      <td>810</td>\n",
       "      <td>1</td>\n",
       "      <td>female</td>\n",
       "      <td>1</td>\n",
       "      <td>1.0</td>\n",
       "      <td>113806</td>\n",
       "    </tr>\n",
       "  </tbody>\n",
       "</table>\n",
       "</div>"
      ],
      "text/plain": [
       "      Age Cabin Embarked  Fare  \\\n",
       "809  33.0    E8        S  53.1   \n",
       "\n",
       "                                               Name  Parch  PassengerId  \\\n",
       "809  Chambers, Mrs. Norman Campbell (Bertha Griggs)      0          810   \n",
       "\n",
       "     Pclass     Sex  SibSp  Survived  Ticket  \n",
       "809       1  female      1       1.0  113806  "
      ]
     },
     "execution_count": 772,
     "metadata": {},
     "output_type": "execute_result"
    }
   ],
   "source": [
    "df_all.sample(1)"
   ]
  },
  {
   "cell_type": "markdown",
   "metadata": {},
   "source": [
    "## Survival based on 'Gender' and 'Age'"
   ]
  },
  {
   "cell_type": "markdown",
   "metadata": {},
   "source": [
    "A code of conduct seems to work \"Women and children first!\". If you were woman you had much more changes to survive."
   ]
  },
  {
   "cell_type": "code",
   "execution_count": 773,
   "metadata": {},
   "outputs": [
    {
     "data": {
      "text/html": [
       "<div>\n",
       "<style>\n",
       "    .dataframe thead tr:only-child th {\n",
       "        text-align: right;\n",
       "    }\n",
       "\n",
       "    .dataframe thead th {\n",
       "        text-align: left;\n",
       "    }\n",
       "\n",
       "    .dataframe tbody tr th {\n",
       "        vertical-align: top;\n",
       "    }\n",
       "</style>\n",
       "<table border=\"1\" class=\"dataframe\">\n",
       "  <thead>\n",
       "    <tr style=\"text-align: right;\">\n",
       "      <th></th>\n",
       "      <th>Survived</th>\n",
       "    </tr>\n",
       "    <tr>\n",
       "      <th>Sex</th>\n",
       "      <th></th>\n",
       "    </tr>\n",
       "  </thead>\n",
       "  <tbody>\n",
       "    <tr>\n",
       "      <th>female</th>\n",
       "      <td>0.742038</td>\n",
       "    </tr>\n",
       "    <tr>\n",
       "      <th>male</th>\n",
       "      <td>0.188908</td>\n",
       "    </tr>\n",
       "  </tbody>\n",
       "</table>\n",
       "</div>"
      ],
      "text/plain": [
       "        Survived\n",
       "Sex             \n",
       "female  0.742038\n",
       "male    0.188908"
      ]
     },
     "execution_count": 773,
     "metadata": {},
     "output_type": "execute_result"
    }
   ],
   "source": [
    "df_all.pivot_table(values=[\"Survived\"], index=[\"Sex\"], aggfunc=np.mean)"
   ]
  },
  {
   "cell_type": "code",
   "execution_count": 774,
   "metadata": {},
   "outputs": [
    {
     "data": {
      "text/html": [
       "<div>\n",
       "<style>\n",
       "    .dataframe thead tr:only-child th {\n",
       "        text-align: right;\n",
       "    }\n",
       "\n",
       "    .dataframe thead th {\n",
       "        text-align: left;\n",
       "    }\n",
       "\n",
       "    .dataframe tbody tr th {\n",
       "        vertical-align: top;\n",
       "    }\n",
       "</style>\n",
       "<table border=\"1\" class=\"dataframe\">\n",
       "  <thead>\n",
       "    <tr style=\"text-align: right;\">\n",
       "      <th></th>\n",
       "      <th></th>\n",
       "      <th>Survived</th>\n",
       "    </tr>\n",
       "    <tr>\n",
       "      <th>Pclass</th>\n",
       "      <th>Sex</th>\n",
       "      <th></th>\n",
       "    </tr>\n",
       "  </thead>\n",
       "  <tbody>\n",
       "    <tr>\n",
       "      <th rowspan=\"2\" valign=\"top\">1</th>\n",
       "      <th>female</th>\n",
       "      <td>0.968085</td>\n",
       "    </tr>\n",
       "    <tr>\n",
       "      <th>male</th>\n",
       "      <td>0.368852</td>\n",
       "    </tr>\n",
       "    <tr>\n",
       "      <th rowspan=\"2\" valign=\"top\">2</th>\n",
       "      <th>female</th>\n",
       "      <td>0.921053</td>\n",
       "    </tr>\n",
       "    <tr>\n",
       "      <th>male</th>\n",
       "      <td>0.157407</td>\n",
       "    </tr>\n",
       "    <tr>\n",
       "      <th rowspan=\"2\" valign=\"top\">3</th>\n",
       "      <th>female</th>\n",
       "      <td>0.500000</td>\n",
       "    </tr>\n",
       "    <tr>\n",
       "      <th>male</th>\n",
       "      <td>0.135447</td>\n",
       "    </tr>\n",
       "  </tbody>\n",
       "</table>\n",
       "</div>"
      ],
      "text/plain": [
       "               Survived\n",
       "Pclass Sex             \n",
       "1      female  0.968085\n",
       "       male    0.368852\n",
       "2      female  0.921053\n",
       "       male    0.157407\n",
       "3      female  0.500000\n",
       "       male    0.135447"
      ]
     },
     "execution_count": 774,
     "metadata": {},
     "output_type": "execute_result"
    }
   ],
   "source": [
    "df_all.pivot_table(values=[\"Survived\"], index=[\"Pclass\",\"Sex\"], aggfunc=np.mean)"
   ]
  },
  {
   "cell_type": "code",
   "execution_count": 775,
   "metadata": {},
   "outputs": [
    {
     "data": {
      "image/png": "[encoded data removed]",
      "text/plain": [
       "<matplotlib.figure.Figure at 0x11a973978>"
      ]
     },
     "metadata": {},
     "output_type": "display_data"
    }
   ],
   "source": [
    "df_all['Died'] = 1 - df_all['Survived']\n",
    "\n",
    "df_all.groupby('Sex').agg('mean')[['Survived', 'Died']].plot(kind='bar', figsize=(25, 7), \n",
    "                                                           stacked=True, color=['g', 'r']);"
   ]
  },
  {
   "cell_type": "code",
   "execution_count": 776,
   "metadata": {},
   "outputs": [
    {
     "data": {
      "image/png": "[encoded data removed]",
      "text/plain": [
       "<matplotlib.figure.Figure at 0x11ac2eba8>"
      ]
     },
     "metadata": {},
     "output_type": "display_data"
    }
   ],
   "source": [
    "fig = plt.figure(figsize=(25, 7))\n",
    "sns.violinplot(x='Sex', y='Age', \n",
    "               hue='Survived', data=df_all, \n",
    "               split=True,\n",
    "               palette={0: \"r\", 1: \"g\"}\n",
    "              );"
   ]
  },
  {
   "cell_type": "markdown",
   "metadata": {},
   "source": [
    "# Survival basen on ticket 'Fare'"
   ]
  },
  {
   "cell_type": "markdown",
   "metadata": {},
   "source": [
    "Passengers with cheaper tickets fares were more likely to die. On the other hand passengers with more expensive tickets had bigger chance to survive."
   ]
  },
  {
   "cell_type": "code",
   "execution_count": 777,
   "metadata": {},
   "outputs": [
    {
     "data": {
      "image/png": "[encoded data removed]",
      "text/plain": [
       "<matplotlib.figure.Figure at 0x11b6a19b0>"
      ]
     },
     "metadata": {},
     "output_type": "display_data"
    }
   ],
   "source": [
    "figure = plt.figure(figsize=(25, 7))\n",
    "plt.hist([df_all[df_all['Survived'] == 1]['Fare'], df_all[df_all['Survived'] == 0]['Fare']], \n",
    "         stacked=True, color = ['g','r'],\n",
    "         bins = 50, label = ['Survived','Dead'])\n",
    "plt.xlabel('Fare')\n",
    "plt.ylabel('Number of passengers')\n",
    "plt.legend();"
   ]
  },
  {
   "cell_type": "markdown",
   "metadata": {},
   "source": [
    "## First dummy sample - ASAP to kaggle"
   ]
  },
  {
   "cell_type": "code",
   "execution_count": 778,
   "metadata": {
    "collapsed": true
   },
   "outputs": [],
   "source": [
    "feats = [ 'Pclass' ]\n",
    "\n",
    "X = df_train[ feats ].values\n",
    "y = df_train['Survived'].values"
   ]
  },
  {
   "cell_type": "code",
   "execution_count": 779,
   "metadata": {
    "collapsed": true
   },
   "outputs": [],
   "source": [
    "model = ExtraTreesClassifier(n_estimators=100, max_depth=4)\n",
    "model.fit(X, y)\n",
    "y_pred = model.predict(X)\n",
    "\n",
    "score = accuracy_score(y, y_pred)"
   ]
  },
  {
   "cell_type": "code",
   "execution_count": 780,
   "metadata": {},
   "outputs": [
    {
     "name": "stdout",
     "output_type": "stream",
     "text": [
      "Our features: ['Pclass']\n",
      "Local Score 0.68\n",
      "Kaggle Score 0.65\n"
     ]
    }
   ],
   "source": [
    "X = df_test[ feats ].values\n",
    "\n",
    "predictions = df_test['Survived'] = model.predict(X)\n",
    "\n",
    "PassengerId = df_test['PassengerId']\n",
    "\n",
    "submission = pd.DataFrame({ 'PassengerId': PassengerId, 'Survived': predictions })\n",
    "submission.to_csv(\"../output/titanic/extra_tree_1_feature.csv\", index=False)\n",
    "\n",
    "print(\"Our features: %s\" % feats)\n",
    "print(\"Local Score %.2f\" % score)\n",
    "print(\"Kaggle Score %.2f\" % 0.65)"
   ]
  },
  {
   "cell_type": "markdown",
   "metadata": {},
   "source": [
    "## Second dummy sample - ASAP to kaggle"
   ]
  },
  {
   "cell_type": "code",
   "execution_count": 781,
   "metadata": {
    "collapsed": true
   },
   "outputs": [],
   "source": [
    "feats = df_train.select_dtypes(include=[np.int64]).columns.values\n",
    "black_list = ['PassengerId', 'Survived'] \n",
    "\n",
    "feats = [feat for feat in feats if feat not in black_list]"
   ]
  },
  {
   "cell_type": "code",
   "execution_count": 782,
   "metadata": {
    "collapsed": true
   },
   "outputs": [],
   "source": [
    "X = df_train[ feats ].values\n",
    "y = df_train['Survived'].values\n",
    "\n",
    "model = ExtraTreesClassifier(n_estimators=100, max_depth=4)\n",
    "model.fit(X, y)\n",
    "y_pred = model.predict(X)\n",
    "\n",
    "score = accuracy_score(y, y_pred)"
   ]
  },
  {
   "cell_type": "code",
   "execution_count": 783,
   "metadata": {},
   "outputs": [
    {
     "name": "stdout",
     "output_type": "stream",
     "text": [
      "Our features: ['Pclass', 'SibSp', 'Parch']\n",
      "Local Score 0.71\n",
      "Kaggle Score 0.68\n"
     ]
    }
   ],
   "source": [
    "X = df_test[ feats ].values\n",
    "\n",
    "predictions = df_test['Survived'] = model.predict(X)\n",
    "\n",
    "PassengerId = df_test['PassengerId']\n",
    "\n",
    "submission = pd.DataFrame({ 'PassengerId': PassengerId, 'Survived': predictions })\n",
    "submission.to_csv(\"../output/titanic/extra_tree_3_features.csv\", index=False)\n",
    "\n",
    "print(\"Our features: %s\" % feats)\n",
    "print(\"Local Score %.2f\" % score)\n",
    "print(\"Kaggle Score %.2f\" % 0.68)"
   ]
  },
  {
   "cell_type": "markdown",
   "metadata": {},
   "source": [
    "## Create few helpers"
   ]
  },
  {
   "cell_type": "code",
   "execution_count": 784,
   "metadata": {
    "collapsed": true
   },
   "outputs": [],
   "source": [
    "black_list = ['PassengerId', 'Survived']\n",
    "PassengerId = df_test['PassengerId']\n"
   ]
  },
  {
   "cell_type": "code",
   "execution_count": 789,
   "metadata": {
    "collapsed": true
   },
   "outputs": [],
   "source": [
    "def get_feats(df):\n",
    "#     feats = df.select_dtypes(include=[np.int64]).columns.values\n",
    "    feats = features\n",
    "    \n",
    "    black_list = ['PassengerId', 'Survived']\n",
    "    \n",
    "    return [feat for feat in feats if feat not in black_list]\n",
    "\n",
    "def train_and_predict(model):\n",
    "    feats = get_feats( df_train.select_dtypes(include=[np.int, np.float]).head() )\n",
    "    print('Our features: %s ' % feats)\n",
    "\n",
    "    X = df_train[ feats ].values\n",
    "    y = df_train['Survived'].values\n",
    "\n",
    "#     model = RandomForestClassifier(max_depth=3, n_estimators=100, random_state=1)\n",
    "    cross_score = cross_val_score(model, X, y, scoring='accuracy', cv=3)\n",
    "        \n",
    "    model.fit(X, y)\n",
    "    y_pred = model.predict(X)\n",
    "    \n",
    "    print('Cross-Validation Score %.2f' %cross_score.mean())\n",
    "    print('Accuracy Score %.2f' %accuracy_score(y, y_pred))\n",
    "    \n",
    "    return model\n",
    "\n",
    "def predict_and_submit(model, feats, file_name):\n",
    "    predictions = df_test[ 'Survived' ] = model.predict( df_test[ feats ].values )\n",
    "\n",
    "    submission = pd.DataFrame({ 'PassengerId': PassengerId, 'Survived': predictions })\n",
    "    submission.to_csv( '../output/titanic/' + file_name + '.csv', index=False )\n",
    "    \n",
    "def feature_engineering(df):\n",
    "    df['name_length'] = df['Name'].apply(len)\n",
    "    \n",
    "    return df\n",
    "\n",
    "def train_predict_and_create_submission(file_name, model):\n",
    "    feature_engineering(df_train)\n",
    "    feature_engineering(df_test)\n",
    "    \n",
    "    predict_and_submit( train_and_predict(model) , get_feats(df_test) , file_name)"
   ]
  },
  {
   "cell_type": "markdown",
   "metadata": {},
   "source": [
    "# Default model"
   ]
  },
  {
   "cell_type": "code",
   "execution_count": 797,
   "metadata": {
    "collapsed": true
   },
   "outputs": [],
   "source": [
    "\n",
    "model = RandomForestClassifier(max_depth=3, n_estimators=100, random_state=1)\n"
   ]
  },
  {
   "cell_type": "markdown",
   "metadata": {},
   "source": [
    "# FEATURE ENGINEERING"
   ]
  },
  {
   "cell_type": "markdown",
   "metadata": {},
   "source": [
    "## Name length"
   ]
  },
  {
   "cell_type": "code",
   "execution_count": 799,
   "metadata": {
    "scrolled": true
   },
   "outputs": [
    {
     "name": "stdout",
     "output_type": "stream",
     "text": [
      "Our features: ['Pclass', 'SibSp', 'Parch', 'name_length'] \n",
      "Cross-Validation Score 0.71\n",
      "Accuracy Score 0.74\n",
      "Kaggle Score 0.69\n"
     ]
    }
   ],
   "source": [
    "features = ['Pclass', 'SibSp', 'Parch', 'name_length'] \n",
    "\n",
    "train_predict_and_create_submission('titanic_73', model)\n",
    "print(\"Kaggle Score %.2f\" % 0.69)"
   ]
  },
  {
   "cell_type": "markdown",
   "metadata": {},
   "source": [
    "## Sex & Embarked"
   ]
  },
  {
   "cell_type": "code",
   "execution_count": 800,
   "metadata": {
    "collapsed": true
   },
   "outputs": [],
   "source": [
    "def feature_engineering(df):\n",
    "    df['sex_cat'] = pd.factorize( df['Sex'] )[0]\n",
    "    df['embarked_cat'] = pd.factorize( df['Embarked'].fillna('C') )[0] # Fill missing values with 'C'"
   ]
  },
  {
   "cell_type": "code",
   "execution_count": 801,
   "metadata": {},
   "outputs": [
    {
     "name": "stdout",
     "output_type": "stream",
     "text": [
      "Our features: ['Pclass', 'SibSp', 'Parch', 'name_length', 'sex_cat', 'embarked_cat'] \n",
      "Cross-Validation Score 0.81\n",
      "Accuracy Score 0.82\n",
      "Kaggle Score 0.76\n"
     ]
    }
   ],
   "source": [
    "features = ['Pclass', 'SibSp', 'Parch', 'name_length', 'sex_cat', 'embarked_cat'] \n",
    "\n",
    "train_predict_and_create_submission('titanic_82', model)\n",
    "print(\"Kaggle Score %.2f\" % 0.76)"
   ]
  },
  {
   "cell_type": "markdown",
   "metadata": {},
   "source": [
    "## Title"
   ]
  },
  {
   "cell_type": "code",
   "execution_count": 802,
   "metadata": {
    "collapsed": true
   },
   "outputs": [],
   "source": [
    "def feature_engineering(df):\n",
    "    df['title_cat'] = df['Name'].map(lambda x: x.split(',')[1].split('.')[0].strip())\n",
    "    rare_titles = ['Mlle','the Countess','Mme', 'Ms', 'Lady', 'Countess', 'Capt','Col','Don', 'Dr', 'Major', 'Rev', 'Sir', 'Jonkheer', 'Dona'] \n",
    "    df['title_cat'].values[df['title_cat'].isin( rare_titles )] = 'Rare'\n",
    "    df['title_cat'] = pd.factorize( df['title_cat'] )[0]"
   ]
  },
  {
   "cell_type": "code",
   "execution_count": 803,
   "metadata": {},
   "outputs": [
    {
     "name": "stdout",
     "output_type": "stream",
     "text": [
      "Our features: ['Pclass', 'SibSp', 'Parch', 'name_length', 'sex_cat', 'embarked_cat', 'title_cat'] \n",
      "Cross-Validation Score 0.81\n",
      "Accuracy Score 0.82\n",
      "Kaggle Score 0.77\n"
     ]
    }
   ],
   "source": [
    "features = ['Pclass', 'SibSp', 'Parch', 'name_length', 'sex_cat', 'embarked_cat', 'title_cat'] \n",
    "\n",
    "train_predict_and_create_submission('titanic_82_title_cat', model)\n",
    "print(\"Kaggle Score %.2f\" % 0.77)"
   ]
  },
  {
   "cell_type": "markdown",
   "metadata": {
    "collapsed": true
   },
   "source": [
    "## Age"
   ]
  },
  {
   "cell_type": "code",
   "execution_count": 804,
   "metadata": {},
   "outputs": [
    {
     "data": {
      "text/plain": [
       "True"
      ]
     },
     "execution_count": 804,
     "metadata": {},
     "output_type": "execute_result"
    }
   ],
   "source": [
    "df_train['Age'].isnull().any() # Some data is missing"
   ]
  },
  {
   "cell_type": "code",
   "execution_count": 805,
   "metadata": {},
   "outputs": [],
   "source": [
    "def fill_missing_age(dataset):\n",
    "    for i in range(1,4):\n",
    "        median_age=dataset[dataset[\"title_cat\"]==i][\"Age\"].median()\n",
    "        dataset[\"Age\"]=dataset[\"Age\"].fillna(median_age)\n",
    "        return dataset\n",
    "\n",
    "def feature_engineering(df):\n",
    "    df = fill_missing_age(df)"
   ]
  },
  {
   "cell_type": "code",
   "execution_count": 807,
   "metadata": {},
   "outputs": [
    {
     "name": "stdout",
     "output_type": "stream",
     "text": [
      "Our features: ['Pclass', 'SibSp', 'Parch', 'name_length', 'sex_cat', 'embarked_cat', 'title_cat', 'Age'] \n",
      "Cross-Validation Score 0.82\n",
      "Accuracy Score 0.83\n",
      "Kaggle Score 0.77\n"
     ]
    }
   ],
   "source": [
    "features = ['Pclass', 'SibSp', 'Parch', 'name_length', 'sex_cat', 'embarked_cat', 'title_cat', 'Age'] \n",
    "\n",
    "train_predict_and_create_submission('titanic_82_Age', model)\n",
    "print(\"Kaggle Score %.2f\" % 0.77)"
   ]
  },
  {
   "cell_type": "markdown",
   "metadata": {},
   "source": [
    "## Fare"
   ]
  },
  {
   "cell_type": "code",
   "execution_count": 809,
   "metadata": {
    "collapsed": true
   },
   "outputs": [],
   "source": [
    "def feature_engineering(df):\n",
    "    df['fare_log'] = np.log2( df['Fare'] + 1 ).fillna(1)"
   ]
  },
  {
   "cell_type": "code",
   "execution_count": 810,
   "metadata": {},
   "outputs": [
    {
     "name": "stdout",
     "output_type": "stream",
     "text": [
      "Our features: ['Pclass', 'SibSp', 'Parch', 'name_length', 'sex_cat', 'embarked_cat', 'title_cat', 'Age', 'fare_log'] \n",
      "Cross-Validation Score 0.82\n",
      "Accuracy Score 0.82\n",
      "Kaggle Score 0.78\n"
     ]
    }
   ],
   "source": [
    "features = ['Pclass', 'SibSp', 'Parch', 'name_length', 'sex_cat', 'embarked_cat', 'title_cat', 'Age', 'fare_log'] \n",
    "\n",
    "train_predict_and_create_submission('titanic_82_fare', model)\n",
    "print(\"Kaggle Score %.2f\" % 0.78468)"
   ]
  },
  {
   "cell_type": "markdown",
   "metadata": {},
   "source": [
    "## Family Size & Cabin"
   ]
  },
  {
   "cell_type": "code",
   "execution_count": 811,
   "metadata": {
    "collapsed": true
   },
   "outputs": [],
   "source": [
    "def feature_engineering(df):\n",
    "    df[\"FamilySize\"] = df[\"SibSp\"] + df[\"Parch\"] + 1\n",
    "\n",
    "    df['Single'] = df['FamilySize'].map(lambda s: 1 if s == 1 else 0)\n",
    "    df['SmallF'] = df['FamilySize'].map(lambda s: 1 if s == 2  else 0)\n",
    "    df['MedF']   = df['FamilySize'].map(lambda s: 1 if 3 <= s <= 4 else 0)\n",
    "    df['LargeF'] = df['FamilySize'].map(lambda s: 1 if s >= 5 else 0)\n",
    "    \n",
    "    df['cabin_norm'] = df['Cabin'].map(lambda x: 'missing' if str(x) == 'nan' else x[0] )\n",
    "    df['cabin_norm_cat'] = pd.factorize( df['cabin_norm'] )[0]\n"
   ]
  },
  {
   "cell_type": "code",
   "execution_count": 814,
   "metadata": {},
   "outputs": [
    {
     "name": "stdout",
     "output_type": "stream",
     "text": [
      "Our features: ['Pclass', 'SibSp', 'Parch', 'name_length', 'sex_cat', 'cabin_norm_cat', 'embarked_cat', 'title_cat', 'Age', 'fare_log', 'FamilySize'] \n",
      "Cross-Validation Score 0.82\n",
      "Accuracy Score 0.84\n",
      "Kaggle Score 0.77\n"
     ]
    }
   ],
   "source": [
    "features = ['Pclass', 'SibSp', 'Parch', 'name_length', 'sex_cat', 'cabin_norm_cat',\n",
    "            'embarked_cat', 'title_cat', 'Age', 'fare_log', 'FamilySize'] \n",
    "\n",
    "train_predict_and_create_submission('titanic_82_familySize_cabin', model)\n",
    "print(\"Kaggle Score %.2f\" % 0.77)"
   ]
  },
  {
   "cell_type": "code",
   "execution_count": 822,
   "metadata": {},
   "outputs": [
    {
     "name": "stdout",
     "output_type": "stream",
     "text": [
      "Our features: ['Pclass', 'SibSp', 'Parch', 'name_length', 'sex_cat', 'cabin_norm_cat', 'embarked_cat', 'title_cat', 'Age', 'fare_log', 'FamilySize'] \n",
      "Cross-Validation Score 0.82\n",
      "Accuracy Score 0.87\n",
      "Kaggle Score 0.78\n"
     ]
    }
   ],
   "source": [
    "model = xgb.XGBClassifier(max_depth=5, n_estimators=15, random_state=2018)\n",
    "\n",
    "train_predict_and_create_submission('titanic_82_xgb_5', model)\n",
    "print(\"Kaggle Score %.2f\" % 0.78468)"
   ]
  },
  {
   "cell_type": "code",
   "execution_count": null,
   "metadata": {
    "collapsed": true
   },
   "outputs": [],
   "source": [
    "\n",
    "\n",
    "\n"
   ]
  },
  {
   "cell_type": "markdown",
   "metadata": {
    "collapsed": true
   },
   "source": [
    "<br><br><br>\n",
    "\n",
    "\n",
    "# Materials:\n",
    "You can find summary of it on my Polish blog.\n",
    "* [Pierwsze dwa projekty Machine Learningowe by Łukasz Sroczyński](http://www.braintelligence.pl/pierwsze-dwa-projekty-machine-learningowe)\n",
    "\n",
    "<br><br><br>\n",
    "\n",
    "\n",
    "### English\n",
    "* [How to score 0.8134 in Titanic Kaggle Challenge](https://ahmedbesbes.com/how-to-score-08134-in-titanic-kaggle-challenge.html)\n",
    "\n",
    "### Polish\n",
    "* [Praktyczne uczenie maszynowe w przykładach (Titanic)](https://youtu.be/GvuxM3z4xU4)\n",
    "\n",
    "<br>\n",
    "<br>\n",
    "<br>"
   ]
  },
  {
   "cell_type": "code",
   "execution_count": null,
   "metadata": {
    "collapsed": true
   },
   "outputs": [],
   "source": []
  }
 ],
 "metadata": {
  "kernelspec": {
   "display_name": "Python 3",
   "language": "python",
   "name": "python3"
  },
  "language_info": {
   "codemirror_mode": {
    "name": "ipython",
    "version": 3
   },
   "file_extension": ".py",
   "mimetype": "text/x-python",
   "name": "python",
   "nbconvert_exporter": "python",
   "pygments_lexer": "ipython3",
   "version": "3.6.1"
  }
 },
 "nbformat": 4,
 "nbformat_minor": 2
}
